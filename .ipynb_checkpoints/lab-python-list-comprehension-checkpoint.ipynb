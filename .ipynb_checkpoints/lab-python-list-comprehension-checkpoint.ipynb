{
 "cells": [
  {
   "cell_type": "markdown",
   "id": "25d7736c-ba17-4aff-b6bb-66eba20fbf4e",
   "metadata": {},
   "source": [
    "# Lab | List, Dict and Set Comprehension"
   ]
  },
  {
   "cell_type": "markdown",
   "id": "7dd3cbde-675a-4b81-92c3-f728846dbe06",
   "metadata": {},
   "source": [
    "## Exercise: Managing Customer Orders Optimized with Comprehension"
   ]
  },
  {
   "cell_type": "markdown",
   "id": "5d500160-2fb7-4777-b5e4-09d45ebaf328",
   "metadata": {},
   "source": [
    "In the previous exercise, you developed a program to manage customer orders and inventory. Now, let's take it a step further and incorporate comprehension into your code.\n",
    "\n",
    "Follow the steps below to complete the exercise:\n",
    "\n",
    "1. Review your code from the previous exercise and identify areas where you can apply comprehension to simplify and streamline your code. \n",
    "\n",
    "    - *Hint: Apply it to initialize inventory, updating the inventory and printing the updated inventory.*\n",
    "    \n",
    "    - For example, in initializing the inventory, we could have:\n",
    "    \n",
    "        ```python\n",
    "        def initialize_inventory(products):\n",
    "            inventory = {product: int(input(f\"Enter the quantity of {product}s available: \")) for product in products}\n",
    "            return inventory\n",
    "\n",
    "        ```\n",
    "<br>\n",
    "    \n",
    "    \n",
    "2. Modify the function get_customer_orders so it prompts the user to enter the number of customer orders and gathers the product names using a loop and user input. Use comprehension.\n",
    "\n",
    "3. Add a new function to calculate the total price of the customer order. For each product in customer_orders, prompt the user to enter the price of that product. Use comprehension to calculate the total price. Note: assume that the user can only have 1 unit of each product.\n",
    "\n",
    "4. Modify the update_inventory function to remove the product from the inventory if its quantity becomes zero after fulfilling the customer orders. Use comprehension to filter out the products with a quantity of zero from the inventory.\n",
    "\n",
    "5. Print the total price of the customer order.\n",
    "\n",
    "Your code should produce output similar to the following:\n",
    "\n",
    "```python\n",
    "Enter the quantity of t-shirts available:  5\n",
    "Enter the quantity of mugs available:  4\n",
    "Enter the quantity of hats available:  3\n",
    "Enter the quantity of books available:  2\n",
    "Enter the quantity of keychains available:  1\n",
    "Enter the number of customer orders:  2\n",
    "Enter the name of a product that a customer wants to order:  hat\n",
    "Enter the name of a product that a customer wants to order:  keychain\n",
    "\n",
    "Order Statistics:\n",
    "Total Products Ordered: 2\n",
    "Percentage of Unique Products Ordered: 40.0\n",
    "\n",
    "Updated Inventory:\n",
    "t-shirt: 5\n",
    "mug: 4\n",
    "hat: 2\n",
    "book: 2\n",
    "Enter the price of keychain:  5\n",
    "Enter the price of hat:  10\n",
    "Total Price: 15.0\n",
    "\n",
    "\n"
   ]
  },
  {
   "cell_type": "code",
   "execution_count": 276,
   "id": "2d221948-8903-4fc9-b1fa-b61491d88cd9",
   "metadata": {},
   "outputs": [],
   "source": [
    "# point 1 \n",
    "#List Comprehension\n",
    "products = [\"t-shirt\",\"mug\",\"hat\",\"book\", \"keychain\"]\n",
    "def initialize_inventory(products):\n",
    "    comp_inventory = {item: int(input(f\"Enter the quantity for {item}: \")) for item in products}\n",
    "    return comp_inventory"
   ]
  },
  {
   "cell_type": "code",
   "execution_count": 278,
   "id": "d98125ef-1822-4191-863c-0c9111f14e96",
   "metadata": {},
   "outputs": [],
   "source": [
    "# point 2\n",
    "def get_customer_orders(products):\n",
    "    customer_orders_quantity = int(input('Enter the number of products to order: ')) \n",
    "    customer_orders = set() \n",
    "    customer_orders = { input('Enter the product you want to order from the list (t-shirt, mug, hat, book, keychain):') for product in range(customer_orders_quantity)if item in products}\n",
    "    return customer_orders"
   ]
  },
  {
   "cell_type": "code",
   "execution_count": 280,
   "id": "78d5de69-4c85-4ce8-ad51-0f9d1053e706",
   "metadata": {},
   "outputs": [],
   "source": [
    "#point 1\n",
    "#List Comprehension\n",
    "def update_inventory (customer_orders,comp_inventory):\n",
    "    updated_inventory = {item: (comp_inventory[item] - 1 if item in customer_orders else comp_inventory[item]) for item in comp_inventory}\n",
    "    return updated_inventory "
   ]
  },
  {
   "cell_type": "code",
   "execution_count": 282,
   "id": "3560661e-db5d-47a3-8fed-b6eb7d348e4a",
   "metadata": {},
   "outputs": [],
   "source": [
    "#point 3\n",
    "def calc_total_price (customer_orders):\n",
    "    prices = {item: float(input(f\"Enter the price of {item}: \")) for item in customer_orders}\n",
    "    total_price = sum(prices[item] for item in customer_orders)\n",
    "    return total_price"
   ]
  },
  {
   "cell_type": "code",
   "execution_count": 284,
   "id": "1e814a17-e3a0-4d52-937d-80ec9128e4af",
   "metadata": {},
   "outputs": [],
   "source": [
    "#point 4\n",
    "def update_inv_after_cust_order (customer_orders,comp_inventory):\n",
    "    comp_updated_inventory2 = {item: quantity for item, quantity in updated_inventory.items() if quantity > 0}\n",
    "    return comp_updated_inventory2"
   ]
  },
  {
   "cell_type": "code",
   "execution_count": 288,
   "id": "ef10af70-7806-4f31-aa98-b273a3cd1b8b",
   "metadata": {},
   "outputs": [
    {
     "name": "stdin",
     "output_type": "stream",
     "text": [
      "Enter the quantity for t-shirt:  2\n",
      "Enter the quantity for mug:  2\n",
      "Enter the quantity for hat:  1\n",
      "Enter the quantity for book:  2\n",
      "Enter the quantity for keychain:  2\n"
     ]
    },
    {
     "name": "stdout",
     "output_type": "stream",
     "text": [
      "\n"
     ]
    },
    {
     "name": "stdin",
     "output_type": "stream",
     "text": [
      "Enter the number of products to order:  2\n",
      "Enter the product you want to order from the list (t-shirt, mug, hat, book, keychain): hat\n",
      "Enter the product you want to order from the list (t-shirt, mug, hat, book, keychain): book\n"
     ]
    },
    {
     "name": "stdout",
     "output_type": "stream",
     "text": [
      "\n",
      "Enter the name of a product that a customer wants to order: {'hat', 'book'}\n",
      "\n",
      "Order Statistics:\n",
      "Total Products Ordered: 2\n",
      "Percentage of Unique Products Ordered: 40.0%\n",
      "\n",
      "Updated Inventory:\n",
      "t-shirt: 2\n",
      "mug: 2\n",
      "hat: 0\n",
      "book: 1\n",
      "keychain: 2\n",
      "\n"
     ]
    },
    {
     "name": "stdin",
     "output_type": "stream",
     "text": [
      "Enter the price of hat:  5\n",
      "Enter the price of book:  10\n"
     ]
    },
    {
     "name": "stdout",
     "output_type": "stream",
     "text": [
      "Total Price: 15.0\n"
     ]
    }
   ],
   "source": [
    "#point 5\n",
    "comp_inventory = initialize_inventory(products)\n",
    "print()\n",
    "customer_orders = get_customer_orders(products)\n",
    "print()\n",
    "print(\"Enter the name of a product that a customer wants to order:\",customer_orders)\n",
    "print()\n",
    "print (\"Order Statistics:\")\n",
    "print(f\"Total Products Ordered: {len(customer_orders)}\")\n",
    "def calculate_unique_percentage(customer_orders, products):\n",
    "    unique_percentage = (len(customer_orders) / len(products)) * 100\n",
    "    return unique_percentage\n",
    "unique_percentage = calculate_unique_percentage(customer_orders, products)\n",
    "print(f\"Percentage of Unique Products Ordered: {unique_percentage:.1f}%\")\n",
    "print()\n",
    "updated_inventory = update_inventory(customer_orders, comp_inventory)\n",
    "print(\"Updated Inventory:\")\n",
    "for item, quantity in updated_inventory.items():\n",
    "    print(f\"{item}: {quantity}\")\n",
    "print()\n",
    "total_price = calc_total_price(customer_orders)\n",
    "print(f\"Total Price: {total_price:.1f}\")"
   ]
  },
  {
   "cell_type": "code",
   "execution_count": null,
   "id": "5ce0f20a-cd99-4eff-af22-62af81f7307c",
   "metadata": {},
   "outputs": [],
   "source": []
  }
 ],
 "metadata": {
  "kernelspec": {
   "display_name": "Python [conda env:base] *",
   "language": "python",
   "name": "conda-base-py"
  },
  "language_info": {
   "codemirror_mode": {
    "name": "ipython",
    "version": 3
   },
   "file_extension": ".py",
   "mimetype": "text/x-python",
   "name": "python",
   "nbconvert_exporter": "python",
   "pygments_lexer": "ipython3",
   "version": "3.12.7"
  }
 },
 "nbformat": 4,
 "nbformat_minor": 5
}
